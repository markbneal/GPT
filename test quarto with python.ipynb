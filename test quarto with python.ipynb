{
  "cells": [
    {
      "cell_type": "raw",
      "metadata": {},
      "source": [
        "---\n",
        "title: \"Test quarto with python\"\n",
        "format: html\n",
        "editor: visual\n",
        "---"
      ],
      "id": "fac25890"
    },
    {
      "cell_type": "markdown",
      "metadata": {},
      "source": [
        "## Quarto\n"
      ],
      "id": "832c99eb"
    },
    {
      "cell_type": "code",
      "metadata": {},
      "source": [
        "1 + 1"
      ],
      "id": "cf571aeb",
      "execution_count": null,
      "outputs": []
    }
  ],
  "metadata": {
    "kernelspec": {
      "display_name": "Python 3",
      "language": "python",
      "name": "python3"
    }
  },
  "nbformat": 4,
  "nbformat_minor": 5
}